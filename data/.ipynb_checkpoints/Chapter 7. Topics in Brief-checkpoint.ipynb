{
 "cells": [
  {
   "cell_type": "markdown",
   "id": "bcc8d3cc-ffdc-4278-ba47-fdc7f94125a6",
   "metadata": {},
   "source": [
    "# 1. Search and Information Retrieval\n",
    "Apart from this major function of storing data and ranking search\n",
    "results, several features in a modern search engine involve NLP\n",
    "- Spelling correction\n",
    "- Related queries\n",
    "- Snippet extraction\n",
    "- Biographical information extraction\n",
    "- Search results classification\n",
    "\n",
    "These two types of search engines are\n",
    "distinguished as follows:\n",
    "- Generic search engines, such as Google and Bing, that crawl\n",
    "the web and aim to cover as much as possible by constantly\n",
    "looking for new webpages\n",
    "-  search engines, where our search space is\n",
    "restricted to a smaller set of already existing documents\n",
    "within an organization"
   ]
  },
  {
   "cell_type": "markdown",
   "id": "e6e15a6a-18bb-46c9-bb85-57c1c344177d",
   "metadata": {},
   "source": [
    "## Components of a Search Engine\n",
    "![](images/search-engine.png)\n",
    " <center>Early architecture of the Google search engine </center>\n",
    " - Crawler: Collects all the content for the search engine. The crawler’s job is\n",
    "to traverse the web following a bunch of seed URLs and build its\n",
    "collection of URLs through them in a breadth-first way. It visits\n",
    "each URL, saves a copy of the document, detects the outgoing\n",
    "hyperlinks, then adds them to the list of URLs to be visited next.\n",
    "- Indexer: Parses and stores the content that the crawler collects and builds\n",
    "an “index” so it can be searched and retrieved efficiently.\n",
    "- Searcher: Searches the index and ranks the search results for the user query\n",
    "based on the relevance of the results to the query.\n",
    "- Feedback: A fourth component, which is now common in all search engines,\n",
    "that tracks and analyzes user interactions with the search engine,\n",
    "such as click-throughs, time spent on searching and on each clicked\n",
    "result, etc., and uses it for continuous improvement of the search\n",
    "system."
   ]
  },
  {
   "cell_type": "code",
   "execution_count": null,
   "id": "d1004c1f-7c7b-4f36-b678-92751bfec387",
   "metadata": {},
   "outputs": [],
   "source": []
  }
 ],
 "metadata": {
  "kernelspec": {
   "display_name": "Python 3 (ipykernel)",
   "language": "python",
   "name": "python3"
  },
  "language_info": {
   "codemirror_mode": {
    "name": "ipython",
    "version": 3
   },
   "file_extension": ".py",
   "mimetype": "text/x-python",
   "name": "python",
   "nbconvert_exporter": "python",
   "pygments_lexer": "ipython3",
   "version": "3.8.10"
  }
 },
 "nbformat": 4,
 "nbformat_minor": 5
}
